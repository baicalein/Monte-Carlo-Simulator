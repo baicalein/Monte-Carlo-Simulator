{
 "cells": [
  {
   "cell_type": "markdown",
   "id": "22410999",
   "metadata": {},
   "source": [
    "# Final Project Report\n",
    "\n",
    "* Class: DS 5100\n",
    "* Student Name: Heejeong Yoon (Angie)\n",
    "* Student Net ID:rpk3ve\n",
    "* This URL: a URL to the notebook source of this document"
   ]
  },
  {
   "cell_type": "markdown",
   "id": "acf756c1-ecaa-41dc-b6ca-d566eb94560b",
   "metadata": {},
   "source": [
    "# Instructions\n",
    "\n",
    "Follow the instructions in the Final Project isntructions notebook and put evidence of your work in this notebook.\n",
    "\n",
    "Total points for each subsection under **Deliverables** and **Scenarios** are given in parentheses.\n",
    "\n",
    "Breakdowns of points within subsections are specified within subsection instructions as bulleted lists.\n",
    "\n",
    "This project is worth **50 points**."
   ]
  },
  {
   "cell_type": "markdown",
   "id": "89dc7a32-f682-4402-8c1e-b6ccdb3e0e39",
   "metadata": {},
   "source": [
    "# Deliverables"
   ]
  },
  {
   "cell_type": "markdown",
   "id": "d32cb273-9a40-4909-a7ce-51f6e4958d3c",
   "metadata": {},
   "source": [
    "## The Monte Carlo Module (10)\n",
    "\n",
    "- URL included, appropriately named (1).\n",
    "- Includes all three specified classes (3).\n",
    "- Includes at least all 12 specified methods (6; .5 each)."
   ]
  },
  {
   "cell_type": "markdown",
   "id": "e4f3176d",
   "metadata": {},
   "source": [
    "Put the URL to your GitHub repo here.\n",
    "\n",
    "Repo URL:https://github.com/baicalein/Monte-Carlo-Simulator.git"
   ]
  },
  {
   "cell_type": "markdown",
   "id": "09cdb648-2997-4e03-b7e0-870f0fb47c68",
   "metadata": {},
   "source": [
    "### in this URL, \n",
    "- **3 Classes**:\n",
    "    - `Die`\n",
    "    - `Game`\n",
    "    - `Analyzer`\n",
    "- **12 Methods**:\n",
    "    - `Die` class methods: `__init__`, `change_weight`, `roll`, `show`\n",
    "    - `Game` class methods: `__init__`, `play`, `show`\n",
    "    - `Analyzer` class methods: `__init__`, `jackpot`, `face_counts_per_roll`, `combo_count`, `permutation_count`\n"
   ]
  },
  {
   "cell_type": "markdown",
   "id": "162370fb-3729-4c85-b040-8c25b2c966d2",
   "metadata": {},
   "source": [
    "Paste a copyy of your module here.\n",
    "\n",
    "NOTE: Paste as text, not as code. Use triple backticks to wrap your code blocks."
   ]
  },
  {
   "cell_type": "markdown",
   "id": "d32dd522-baac-40fd-af3d-78366caa515f",
   "metadata": {},
   "source": [
    "# A code block with your classes.\n",
    "### Die.py\n",
    "\n",
    "```\n",
    "import numpy as np\n",
    "import pandas as pd\n",
    "\n",
    "class Die:\n",
    "    \"\"\"\n",
    "    Assign a die with faces and their weights for each face.\n",
    "    Each face is distict and can be weighted to simulate a die. \n",
    "    Die to be rolled to produce outcomes based on given weights.\n",
    "\n",
    "    Attributes:\n",
    "        faces: An array of unique faces with symbols that may be all alphabetic or all numeric).\n",
    "        weights: An array of weights for each face, default=1.\n",
    "        _facesweights: A private DataFrame to store faces and weights.\n",
    "    \"\"\"\n",
    "    def __init__(self, faces):\n",
    "        \"\"\"\n",
    "        Initialize die with a set of faces.\n",
    "\n",
    "        Parameters:\n",
    "            faces:NumPy array of unique symbols that may be strings or numbers.\n",
    "                Raises TypeError if not a NumPy array.\n",
    "                Raises ValueError if faces are not unique.\n",
    "        \"\"\"\n",
    "        if not isinstance(faces, np.ndarray):\n",
    "            raise TypeError(\"faces must be Numpy array.\")\n",
    "        if len(faces)!=len(set(faces)):\n",
    "            raise ValueError(\"face values must be distint.\")\n",
    "        self.faces=faces\n",
    "        self.weights = np.ones(len(faces))\n",
    "        self._df=pd.DataFrame({'weights': self.weights}, index=self.faces)\n",
    "        \n",
    "    def change_weight(self, face, new_weight):\n",
    "        \"\"\"\n",
    "        Change the weight of a certain face.\n",
    "\n",
    "        Parameters:\n",
    "            face: The face value whose weight to be changed.\n",
    "            new_weight: The new weight for the specified face. Must be positive numeric value, including 0. Raises IndexError if face is not valid.\n",
    "                        Raises TypeError if new_weights is non-numeric.\n",
    "        \n",
    "        Raises:\n",
    "            IndexError: If face is not in the face value of die.\n",
    "            TypeError: If new_weight is non-numeric.\n",
    "        \"\"\"\n",
    "        if face not in self._df.index:\n",
    "            raise IndexError(\"Your faces value is not your die.\")\n",
    "        try: \n",
    "            new_weight = float(new_weight)\n",
    "            if new_weight<0:\n",
    "                raise ValueError(\"weight must be positive number, including 0.\")\n",
    "        except ValueError:\n",
    "            raise TypeError(\"weight must be numbers.\")\n",
    "        self._df.loc[face, 'weight'] = new_weight\n",
    "    def roll(self, num_rolls=1):\n",
    "        \"\"\"\n",
    "        Roll the die a given number of times.\n",
    "\n",
    "        Parameters:num_rolls: The number of rolling the die(integer). Defaults=1.\n",
    "\n",
    "        Returns:A list of outcomes from the rolls.\n",
    "        \"\"\"\n",
    "        return self._df.sample(n=num_rolls, weights='weights', replace=True).index.tolist()\n",
    "        \n",
    "    def show(self):\n",
    "        \"\"\"\n",
    "        Show the current state of the die(faces and weights).\n",
    "\n",
    "        Returns:pd.DataFrame: the DataFrame containing faces and their weights.\n",
    "        \"\"\"\n",
    "        return self._df.copy()\n",
    "    \n",
    "```"
   ]
  },
  {
   "cell_type": "markdown",
   "id": "aea97eb0-8665-4bdc-b065-9cea90da207e",
   "metadata": {},
   "source": [
    "### Game.py\n",
    "```\n",
    "import numpy as np\n",
    "import pandas as pd\n",
    "    \n",
    "class Game:\n",
    "    \"\"\"\n",
    "    Game consists of one or more rolls of similar dice (Die objects).\n",
    "    \n",
    "    Each game rolls a list of similar dice a given number of times and recording\n",
    "    its results.\n",
    "\n",
    "    Attributes:\n",
    "        dice: list of Die objects representing the dice in the game.\n",
    "        _results_df: Private DataFrame to store the results of the \n",
    "                                    most recent play.\n",
    "    \"\"\"\n",
    "    def __init__(self, dice):\n",
    "        \"\"\"\n",
    "        Initializes Game with die objects.\n",
    "\n",
    "        Parameters:dice: list of die objects to play the game.\n",
    "        \"\"\"\n",
    "        self.dice = dice\n",
    "        self._results_df = None  # attribute to store the results of the most recent play\n",
    "    def play(self, num_rolls):\n",
    "        \"\"\"\n",
    "        Rolls each die in the game a given number of times.\n",
    "\n",
    "        Parameters:\n",
    "            num_rolls:Integer, the number of times to roll each die.\n",
    "        \n",
    "        Update:\n",
    "            self._results_df: Stores the results of the rolls in a DataFrame, where\n",
    "                              each row represents a roll and each column represents a die.\n",
    "        \"\"\"\n",
    "        results = {}\n",
    "        for i, die in enumerate(self.dice):\n",
    "            results[i] = die.roll(num_rolls)  # Roll each die and store results with index as column name\n",
    "\n",
    "        # Store the results into a DataFrame in wide format\n",
    "        self._results_df = pd.DataFrame(results)\n",
    "        self._results_df.index.name = 'roll_number'  # Name the index as 'roll_number'\n",
    "    def show(self, form='wide'):\n",
    "        \"\"\"\n",
    "        Show the results of the most recent play in the given format.\n",
    "\n",
    "        Parameters:\n",
    "            form:string,format of the results ('wide' or 'narrow'). Defaults='wide'.\n",
    "                        Raises ValueError if form is invalid.\n",
    "\n",
    "        Returns:DataFrame storing the results in the requested format.\n",
    "\n",
    "        Raises: ValueError: If form is neither 'wide' nor 'narrow'.\n",
    "        \"\"\"\n",
    "        if form == 'wide':\n",
    "            return self._results_df.copy()\n",
    "        elif form == 'narrow': # Convert to narrow format with MultiIndex (roll number and die number)\n",
    "            narrow_df = self._results_df.stack().to_frame('outcome')\n",
    "            narrow_df.index.names = ['roll_number', 'die_number']\n",
    "            return narrow_df\n",
    "        else:\n",
    "            raise ValueError(\"Form must be either'wide' or 'narrow' only.\")\n",
    "```"
   ]
  },
  {
   "cell_type": "markdown",
   "id": "4b957377-4738-4439-847e-13b0429f1012",
   "metadata": {},
   "source": [
    "### Analyzer.py\n",
    "```\n",
    "import numpy as np\n",
    "import pandas as pd  \n",
    "from MonteCarlo.Game import Game\n",
    "\n",
    "class Analyzer:\n",
    "    \"\"\"\n",
    "    Analyzes the results of a game, computing statistical properties about it.\n",
    "\n",
    "    Attributes:\n",
    "        game: The Game object to analyze its results.\n",
    "        results: DataFrame containing the results of the most recent game.\n",
    "    \"\"\"\n",
    "    def __init__(self, game):\n",
    "        \"\"\"\n",
    "        Initializes the Analyzer with game object.\n",
    "\n",
    "        Parameters:\n",
    "            game: The Game object to analyze its results.\n",
    "        \"\"\"\n",
    "        # Throws a ValueError if the passed value is not a Game object.\n",
    "        if not isinstance(game, Game):\n",
    "            raise ValueError(\"the passed value must be Game object.\")\n",
    "        \n",
    "        self.game = game\n",
    "        self.results = game.show('wide')  # the most results in wide format\n",
    "\n",
    "    def jackpot(self):\n",
    "        \"\"\"\n",
    "        Calculates the number of jackpot rolls, a result in which all faces are the same.\n",
    "\n",
    "        Returns: Integer, the number of jackpots in game.\n",
    "        \"\"\"\n",
    "        # Count rows where all values in a roll are the same\n",
    "        jackpot_count = (self.results.nunique(axis=1) == 1).sum()\n",
    "        return int(jackpot_count)\n",
    "\n",
    "    def face_counts_per_roll(self):\n",
    "        \"\"\"\n",
    "        Computes how many times a given face is rolled in each event..\n",
    "\n",
    "        Returns:DataFrame with an index of the roll number, \n",
    "            face values as columns, and count values in the cells \n",
    "        \"\"\"\n",
    "        # Count occurrences of each face for each roll\n",
    "        face_counts = self.results.apply(pd.Series.value_counts, axis=1).fillna(0).astype(int)\n",
    "        face_counts.index.name = 'roll_number'\n",
    "        return face_counts\n",
    "\n",
    "    def combo_count(self):\n",
    "        \"\"\"\n",
    "        Calculates distinct combinations of faces rolled, along with their counts.\n",
    "            order-independent and may contain repetitions.\n",
    "        Returns:DataFrame with MultiIndex(combinations as index and counts as a single column).\n",
    "        \"\"\"\n",
    "        # Find distinct combinations (order-independent) and their counts\n",
    "        sorted_rolls = self.results.apply(lambda x: tuple(sorted(x)), axis=1)\n",
    "        combo_counts = sorted_rolls.value_counts().to_frame('count')\n",
    "        combo_counts.index.name = 'combination'\n",
    "        return combo_counts\n",
    "\n",
    "    def permutation_count(self):\n",
    "        \"\"\"\n",
    "        Calculate distinct permutations of faces rolled, along with their counts,\n",
    "            permutaton: order-dependent and may contain repetitions.\n",
    "\n",
    "        Returns:DataFrame with MultiIndex(permutations as index and counts as a single column).\n",
    "        \"\"\"\n",
    "        # Find distinct permutations (order-dependent) and their counts\n",
    "        perm_counts = self.results.apply(tuple, axis=1).value_counts().to_frame('count')\n",
    "        perm_counts.index.name = 'permutation'\n",
    "        return perm_counts\n",
    "```"
   ]
  },
  {
   "cell_type": "markdown",
   "id": "6377727a-8f0a-491e-9f1c-d9dc225edd35",
   "metadata": {},
   "source": [
    "## Unitest Module (2)\n",
    "\n",
    "Paste a copy of your test module below.\n",
    "\n",
    "NOTE: Paste as text, not as code. Use triple backticks to wrap your code blocks.\n",
    "\n",
    "- All methods have at least one test method (1).\n",
    "- Each method employs one of Unittest's Assert methods (1)."
   ]
  },
  {
   "cell_type": "markdown",
   "id": "157b7294-25bb-4926-a5b0-5de72be3b8c9",
   "metadata": {},
   "source": [
    "##A code block with your test code.\n",
    "### test_montecarlo.py\n",
    "\n",
    "```\n",
    "import unittest\n",
    "import numpy as np\n",
    "from pandas import DataFrame\n",
    "from MonteCarlo.Die import Die\n",
    "from MonteCarlo.Game import Game\n",
    "from MonteCarlo.Analyzer import Analyzer\n",
    "\n",
    "class TestDie(unittest.TestCase):\n",
    "    def setUp(self):\n",
    "        \"\"\"Set up a die with numeric faces for testing.\"\"\"\n",
    "        faces = np.array([1, 2, 3, 4, 5, 6])\n",
    "        self.die = Die(faces)\n",
    "\n",
    "    def test_init(self):\n",
    "        \"\"\"Test if Die initializes with correct structure.\"\"\"\n",
    "        self.assertIsInstance(self.die._df, DataFrame)\n",
    "        self.assertEqual(len(self.die._df), 6)\n",
    "        \n",
    "    def test_change_weight(self):\n",
    "        \"\"\"Test if changing weight updates the weight in the DataFrame.\"\"\"\n",
    "        self.die.change_weight(2, 3.5)\n",
    "        self.assertEqual(self.die._df.at[2, 'weight'], 3.5)\n",
    "        \n",
    "\n",
    "\n",
    "    def test_roll(self):\n",
    "        \"\"\"Test if roll returns a list with correct number of elements.\"\"\"\n",
    "        rolls = self.die.roll(5)\n",
    "        self.assertIsInstance(rolls, list)\n",
    "        self.assertEqual(len(rolls), 5)\n",
    "\n",
    "    def test_show(self):\n",
    "        \"\"\"Test if show returns a DataFrame copy.\"\"\"\n",
    "        df_copy = self.die.show()\n",
    "        self.assertIsInstance(df_copy, DataFrame)\n",
    "        self.assertEqual(len(df_copy), len(self.die._df))\n",
    "        self.assertNotEqual(id(df_copy), id(self.die._df))  # Ensure it's a copy\n",
    "\n",
    "class TestGame(unittest.TestCase):\n",
    "    def setUp(self):\n",
    "        \"\"\"Set up a game with two dice for testing.\"\"\"\n",
    "        faces = np.array([1, 2, 3, 4, 5, 6])\n",
    "        die1 = Die(faces)\n",
    "        die2 = Die(faces)\n",
    "        self.game = Game([die1, die2])\n",
    "\n",
    "    def test_play(self):\n",
    "        \"\"\"Test if play stores results in a DataFrame with correct structure.\"\"\"\n",
    "        self.game.play(5)\n",
    "        self.assertIsInstance(self.game._results_df, DataFrame)\n",
    "        self.assertEqual(self.game._results_df.shape, (5, 2))  # 5 rolls, 2 dice\n",
    "\n",
    "    def test_show_wide(self):\n",
    "        \"\"\"Test if show returns a wide DataFrame by default.\"\"\"\n",
    "        self.game.play(5)\n",
    "        result_df = self.game.show()\n",
    "        self.assertIsInstance(result_df, DataFrame)\n",
    "        self.assertEqual(result_df.shape, (5, 2))  # 5 rolls, 2 dice\n",
    "\n",
    "    def test_show_narrow(self):\n",
    "        \"\"\"Test if show returns a narrow DataFrame when specified.\"\"\"\n",
    "        self.game.play(5)\n",
    "        narrow_df = self.game.show('narrow')\n",
    "        self.assertIsInstance(narrow_df, DataFrame)\n",
    "        self.assertEqual(narrow_df.index.names, ['roll_number', 'die_number'])\n",
    "        self.assertEqual(narrow_df.shape, (10, 1))  # 5 rolls * 2 dice = 10 entries\n",
    "\n",
    "class TestAnalyzer(unittest.TestCase):\n",
    "    def setUp(self):\n",
    "        \"\"\"Set up an Analyzer with a Game object for testing.\"\"\"\n",
    "        faces = np.array([1, 2, 3, 4, 5, 6])\n",
    "        die1 = Die(faces)\n",
    "        die2 = Die(faces)\n",
    "        game = Game([die1, die2])\n",
    "        game.play(10)\n",
    "        self.analyzer = Analyzer(game)\n",
    "    \n",
    "    def test_analyzer_init_invalid_game(self):\n",
    "        \"\"\"Test if Analyzer raises ValueError when initialized with a non-Game object.\"\"\"\n",
    "        with self.assertRaises(ValueError):\n",
    "            invalid_game = \"not_a_game\"  # Not a Game object\n",
    "            Analyzer(invalid_game)\n",
    "\n",
    "    \n",
    "    def test_jackpot(self):\n",
    "        \"\"\"Test if jackpot returns an integer.\"\"\"\n",
    "        jackpot_count = self.analyzer.jackpot()\n",
    "        self.assertIsInstance(jackpot_count, int)\n",
    "\n",
    "    def test_face_counts_per_roll(self):\n",
    "        \"\"\"Test if face_counts_per_roll returns a DataFrame with correct structure.\"\"\"\n",
    "        face_counts = self.analyzer.face_counts_per_roll()\n",
    "        self.assertIsInstance(face_counts, DataFrame)\n",
    "        self.assertEqual(face_counts.index.name, 'roll_number')\n",
    "\n",
    "    def test_combo_count(self):\n",
    "        \"\"\"Test if combo_count returns a DataFrame with combinations and counts.\"\"\"\n",
    "        combo_counts = self.analyzer.combo_count()\n",
    "        self.assertIsInstance(combo_counts, DataFrame)\n",
    "        self.assertEqual(combo_counts.index.name, 'combination')\n",
    "        self.assertIn('count', combo_counts.columns)\n",
    "\n",
    "    def test_permutation_count(self):\n",
    "        \"\"\"Test if permutation_count returns a DataFrame with permutations and counts.\"\"\"\n",
    "        perm_counts = self.analyzer.permutation_count()\n",
    "        self.assertIsInstance(perm_counts, DataFrame)\n",
    "        self.assertEqual(perm_counts.index.name, 'permutation')\n",
    "        self.assertIn('count', perm_counts.columns)\n",
    "\n",
    "# Run the tests\n",
    "if __name__ == '__main__':\n",
    "    unittest.main()\n",
    "```\n"
   ]
  },
  {
   "cell_type": "markdown",
   "id": "e704764c-42f7-488b-8866-c0b96b8f3bae",
   "metadata": {
    "tags": []
   },
   "source": [
    "## Unittest Results (3)\n",
    "\n",
    "Put a copy of the results of running your tests from the command line here.\n",
    "\n",
    "Again, paste as text using triple backticks.\n",
    "\n",
    "- All 12 specified methods return OK (3; .25 each).\n"
   ]
  },
  {
   "cell_type": "markdown",
   "id": "7111aabf-34d6-4dd1-b1e0-c08aff7fdd61",
   "metadata": {},
   "source": [
    "### Unittest result\n",
    "```\n",
    "Ran 12 tests in 0.017s\n",
    "\n",
    "OK\n",
    "bash-4.4$\n",
    "```"
   ]
  },
  {
   "cell_type": "markdown",
   "id": "d9ffe8c5-eb2f-4ad1-af76-a46550e4c7ac",
   "metadata": {},
   "source": [
    "## Import (1)\n",
    "\n",
    "Import your module here. This import should refer to the code in your package directory.\n",
    "\n",
    "- Module successuflly imported (1)."
   ]
  },
  {
   "cell_type": "code",
   "execution_count": 2,
   "id": "a05dffb3-e6d6-4f78-9df4-5abd0cf74ca9",
   "metadata": {
    "tags": []
   },
   "outputs": [],
   "source": [
    "# e.g. import montecarlo.montecarlo \n",
    "\n",
    "from MonteCarlo.Die import Die\n",
    "from MonteCarlo.Game import Game\n",
    "from MonteCarlo.Analyzer import Analyzer\n"
   ]
  },
  {
   "cell_type": "markdown",
   "id": "f30c4842-65b1-4556-98b6-3fe1a07e1371",
   "metadata": {},
   "source": [
    "## Help Docs (4)\n",
    "\n",
    "Show your docstring documentation by applying `help()` to your imported module.\n",
    "\n",
    "- All methods have a docstring (3; .25 each).\n",
    "- All classes have a docstring (1; .33 each)."
   ]
  },
  {
   "cell_type": "code",
   "execution_count": 7,
   "id": "bf4fbf1f-9885-471c-a0a6-e9ca90e160de",
   "metadata": {
    "tags": []
   },
   "outputs": [
    {
     "name": "stdout",
     "output_type": "stream",
     "text": [
      "Help on class Die in module MonteCarlo.Die:\n",
      "\n",
      "class Die(builtins.object)\n",
      " |  Die(faces)\n",
      " |  \n",
      " |  Assign a die with faces and their weights for each face.\n",
      " |  Each face is distict and can be weighted to simulate a die. \n",
      " |  Die to be rolled to produce outcomes based on given weights.\n",
      " |  \n",
      " |  Attributes:\n",
      " |      faces: An array of unique faces with symbols that may be all alphabetic or all numeric).\n",
      " |      weights: An array of weights for each face, default=1.\n",
      " |      _facesweights: A private DataFrame to store faces and weights.\n",
      " |  \n",
      " |  Methods defined here:\n",
      " |  \n",
      " |  __init__(self, faces)\n",
      " |      Initialize die with a set of faces.\n",
      " |      \n",
      " |      Parameters:\n",
      " |          faces:NumPy array of unique symbols that may be strings or numbers.\n",
      " |              Raises TypeError if not a NumPy array.\n",
      " |              Raises ValueError if faces are not unique.\n",
      " |  \n",
      " |  change_weight(self, face, new_weight)\n",
      " |      Change the weight of a certain face.\n",
      " |      \n",
      " |      Parameters:\n",
      " |          face: The face value whose weight to be changed.\n",
      " |          new_weight: The new weight for the specified face. Must be positive numeric value, including 0. Raises IndexError if face is not valid.\n",
      " |                      Raises TypeError if new_weights is non-numeric.\n",
      " |      \n",
      " |      Raises:\n",
      " |          IndexError: If face is not in the face value of die.\n",
      " |          TypeError: If new_weight is non-numeric.\n",
      " |  \n",
      " |  roll(self, num_rolls=1)\n",
      " |      Roll the die a given number of times.\n",
      " |      \n",
      " |      Parameters:num_rolls: The number of rolling the die(integer). Defaults=1.\n",
      " |      \n",
      " |      Returns:A list of outcomes from the rolls.\n",
      " |  \n",
      " |  show(self)\n",
      " |      Show the current state of the die(faces and weights).\n",
      " |      \n",
      " |      Returns:pd.DataFrame: the DataFrame containing faces and their weights.\n",
      " |  \n",
      " |  ----------------------------------------------------------------------\n",
      " |  Data descriptors defined here:\n",
      " |  \n",
      " |  __dict__\n",
      " |      dictionary for instance variables (if defined)\n",
      " |  \n",
      " |  __weakref__\n",
      " |      list of weak references to the object (if defined)\n",
      "\n"
     ]
    }
   ],
   "source": [
    "# Die class and its methods\n",
    "help(Die)"
   ]
  },
  {
   "cell_type": "code",
   "execution_count": 8,
   "id": "94db3c59-e6ca-4e62-a5b6-e3cd8404d93c",
   "metadata": {
    "tags": []
   },
   "outputs": [
    {
     "name": "stdout",
     "output_type": "stream",
     "text": [
      "Help on class Game in module MonteCarlo.Game:\n",
      "\n",
      "class Game(builtins.object)\n",
      " |  Game(dice)\n",
      " |  \n",
      " |  Game consists of one or more rolls of similar dice (Die objects).\n",
      " |  \n",
      " |  Each game rolls a list of similar dice a given number of times and recording\n",
      " |  its results.\n",
      " |  \n",
      " |  Attributes:\n",
      " |      dice: list of Die objects representing the dice in the game.\n",
      " |      _results_df: Private DataFrame to store the results of the \n",
      " |                                  most recent play.\n",
      " |  \n",
      " |  Methods defined here:\n",
      " |  \n",
      " |  __init__(self, dice)\n",
      " |      Initializes Game with die objects.\n",
      " |      \n",
      " |      Parameters:dice: list of die objects to play the game.\n",
      " |  \n",
      " |  play(self, num_rolls)\n",
      " |      Rolls each die in the game a given number of times.\n",
      " |      \n",
      " |      Parameters:\n",
      " |          num_rolls:Integer, the number of times to roll each die.\n",
      " |      \n",
      " |      Update:\n",
      " |          self._results_df: Stores the results of the rolls in a DataFrame, where\n",
      " |                            each row represents a roll and each column represents a die.\n",
      " |  \n",
      " |  show(self, form='wide')\n",
      " |      Show the results of the most recent play in the given format.\n",
      " |      \n",
      " |      Parameters:\n",
      " |          form:string,format of the results ('wide' or 'narrow'). Defaults='wide'.\n",
      " |                      Raises ValueError if form is invalid.\n",
      " |      \n",
      " |      Returns:DataFrame storing the results in the requested format.\n",
      " |      \n",
      " |      Raises: ValueError: If form is neither 'wide' nor 'narrow'.\n",
      " |  \n",
      " |  ----------------------------------------------------------------------\n",
      " |  Data descriptors defined here:\n",
      " |  \n",
      " |  __dict__\n",
      " |      dictionary for instance variables (if defined)\n",
      " |  \n",
      " |  __weakref__\n",
      " |      list of weak references to the object (if defined)\n",
      "\n"
     ]
    }
   ],
   "source": [
    "# Game class and its methods\n",
    "help(Game)"
   ]
  },
  {
   "cell_type": "code",
   "execution_count": 9,
   "id": "219a77b4-4115-4672-9d1b-5a30d1f9e773",
   "metadata": {
    "tags": []
   },
   "outputs": [
    {
     "name": "stdout",
     "output_type": "stream",
     "text": [
      "Help on class Analyzer in module MonteCarlo.Analyzer:\n",
      "\n",
      "class Analyzer(builtins.object)\n",
      " |  Analyzer(game)\n",
      " |  \n",
      " |  Analyzes the results of a game, computing statistical properties about it.\n",
      " |  \n",
      " |  Attributes:\n",
      " |      game: The Game object to analyze its results.\n",
      " |      results: DataFrame containing the results of the most recent game.\n",
      " |  \n",
      " |  Methods defined here:\n",
      " |  \n",
      " |  __init__(self, game)\n",
      " |      Initializes the Analyzer with game object.\n",
      " |      \n",
      " |      Parameters:\n",
      " |          game: The Game object to analyze its results.\n",
      " |  \n",
      " |  combo_count(self)\n",
      " |      Calculates distinct combinations of faces rolled, along with their counts.\n",
      " |          order-independent and may contain repetitions.\n",
      " |      Returns:DataFrame with MultiIndex(combinations as index and counts as a single column).\n",
      " |  \n",
      " |  face_counts_per_roll(self)\n",
      " |      Computes how many times a given face is rolled in each event..\n",
      " |      \n",
      " |      Returns:DataFrame with an index of the roll number, \n",
      " |          face values as columns, and count values in the cells\n",
      " |  \n",
      " |  jackpot(self)\n",
      " |      Calculates the number of jackpot rolls, a result in which all faces are the same.\n",
      " |      \n",
      " |      Returns: Integer, the number of jackpots in game.\n",
      " |  \n",
      " |  permutation_count(self)\n",
      " |      Calculate distinct permutations of faces rolled, along with their counts,\n",
      " |          permutaton: order-dependent and may contain repetitions.\n",
      " |      \n",
      " |      Returns:DataFrame with MultiIndex(permutations as index and counts as a single column).\n",
      " |  \n",
      " |  ----------------------------------------------------------------------\n",
      " |  Data descriptors defined here:\n",
      " |  \n",
      " |  __dict__\n",
      " |      dictionary for instance variables (if defined)\n",
      " |  \n",
      " |  __weakref__\n",
      " |      list of weak references to the object (if defined)\n",
      "\n"
     ]
    }
   ],
   "source": [
    "# Analyzer class and its methods\n",
    "help(Analyzer)"
   ]
  },
  {
   "cell_type": "markdown",
   "id": "a9defa84-b395-4966-bd1c-5c6c2bb7ed68",
   "metadata": {},
   "source": [
    "## `README.md` File (3)\n",
    "\n",
    "Provide link to the README.md file of your project's repo.\n",
    "\n",
    "- Metadata section or info present (1).\n",
    "- Synopsis section showing how each class is called (1). (All must be included.)\n",
    "- API section listing all classes and methods (1). (All must be included.)"
   ]
  },
  {
   "cell_type": "markdown",
   "id": "6e353da9",
   "metadata": {},
   "source": [
    "URL:https://github.com/baicalein/Monte-Carlo-Simulator/blob/main/README.md"
   ]
  },
  {
   "cell_type": "markdown",
   "id": "108604c8-8827-42ef-ab59-6b25428fc0ca",
   "metadata": {},
   "source": [
    "## Successful installation (2)\n",
    "\n",
    "Put a screenshot or paste a copy of a terminal session where you successfully install your module with pip.\n",
    "\n",
    "If pasting text, use a preformatted text block to show the results.\n",
    "\n",
    "- Installed with `pip` (1).\n",
    "- Successfully installed message appears (1)."
   ]
  },
  {
   "cell_type": "markdown",
   "id": "a3115943-ece7-4159-95c0-b94e87cb4427",
   "metadata": {
    "tags": []
   },
   "source": [
    "###Successful Installation\n",
    "\n",
    "```\n",
    "bash-4.4$pip install -e .\n",
    "Defaulting to user installation because normal site-packages is not writeable\n",
    "Obtaining file:///sfs/gpfs/tardis/home/rpk3ve/Monte-Carlo-Simulator\n",
    "  Preparing metadata (setup.py) ... done\n",
    "Installing collected packages: MonteCarlo\n",
    "  Running setup.py develop for MonteCarlo\n",
    "Successfully installed MonteCarlo-0.1\n",
    "bash-4.4$\n",
    "```\n",
    "\n"
   ]
  },
  {
   "cell_type": "markdown",
   "id": "544995e0-d4fd-4601-aa44-5c3286af5567",
   "metadata": {
    "tags": []
   },
   "source": [
    "# Scenarios\n",
    "\n",
    "Use code blocks to perform the tasks for each scenario.\n",
    "\n",
    "Be sure the outputs are visible before submitting."
   ]
  },
  {
   "cell_type": "markdown",
   "id": "e2479eae-6fc9-44cd-b8d7-9b22cb501f2a",
   "metadata": {
    "tags": []
   },
   "source": [
    "## Scenario 1: A 2-headed Coin (9)\n",
    "\n",
    "Task 1. Create a fair coin (with faces $H$ and $T$) and one unfair coin in which one of the faces has a weight of $5$ and the others $1$.\n",
    "\n",
    "- Fair coin created (1).\n",
    "- Unfair coin created with weight as specified (1)."
   ]
  },
  {
   "cell_type": "code",
   "execution_count": 18,
   "id": "55ce498e-c75f-4425-9e3e-b635bd6cd9e1",
   "metadata": {
    "tags": []
   },
   "outputs": [
    {
     "name": "stdout",
     "output_type": "stream",
     "text": [
      "Fair coin created with equal weights:\n",
      "   weights\n",
      "H      1.0\n",
      "T      1.0\n"
     ]
    }
   ],
   "source": [
    "# Create a fair coin\n",
    "import numpy as np\n",
    "from MonteCarlo.Die import Die\n",
    "\n",
    "faces = np.array(['H', 'T'])  # H for Heads, T for Tails\n",
    "fair_coin = Die(faces)\n",
    "print(\"Fair coin created with equal weights:\")\n",
    "print(fair_coin.show())"
   ]
  },
  {
   "cell_type": "code",
   "execution_count": 19,
   "id": "2b07ab5f-df76-4a72-91bd-4a277cdfb782",
   "metadata": {
    "tags": []
   },
   "outputs": [
    {
     "name": "stdout",
     "output_type": "stream",
     "text": [
      "Unfair coin created with 'H' weighted 5 and 'T' weighted 1:\n",
      "   weights  weight\n",
      "H      1.0     5.0\n",
      "T      1.0     NaN\n"
     ]
    }
   ],
   "source": [
    "# Create an unfair coin \n",
    "unfair_coin = Die(faces)\n",
    "unfair_coin.change_weight('H', 5)  # Change the weight of 'H' (Heads) to 5\n",
    "print(\"Unfair coin created with 'H' weighted 5 and 'T' weighted 1:\")\n",
    "print(unfair_coin.show())"
   ]
  },
  {
   "cell_type": "markdown",
   "id": "02b272ab-99da-4b6e-ac2a-555b73e09c07",
   "metadata": {},
   "source": [
    "Task 2. Play a game of $1000$ flips with two fair dice.\n",
    "\n",
    "- Play method called correclty and without error (1)."
   ]
  },
  {
   "cell_type": "code",
   "execution_count": 20,
   "id": "65c92601-d32d-4326-b215-74953aee27f2",
   "metadata": {
    "tags": []
   },
   "outputs": [
    {
     "name": "stdout",
     "output_type": "stream",
     "text": [
      "Game played with 1000 flips using two fair coins.\n"
     ]
    }
   ],
   "source": [
    "from MonteCarlo.Game import Game\n",
    "\n",
    "# Initialize two fair coins\n",
    "fair_coin1 = Die(faces)\n",
    "fair_coin2 = Die(faces)\n",
    "\n",
    "# Set up the game with the two fair coins\n",
    "game = Game([fair_coin1, fair_coin2])\n",
    "\n",
    "# Play the game for 1000 flips\n",
    "game.play(1000)\n",
    "\n",
    "print(\"Game played with 1000 flips using two fair coins.\")"
   ]
  },
  {
   "cell_type": "markdown",
   "id": "7d9c3dc8-22c1-4cae-81fb-d68d774a05d1",
   "metadata": {},
   "source": [
    "Task 3. Play another game (using a new Game object) of $1000$ flips, this time using two unfair dice and one fair die. For the second unfair die, you can use the same die object twice in the list of dice you pass to the Game object.\n",
    "\n",
    "- New game object created (1).\n",
    "- Play method called correclty and without error (1)."
   ]
  },
  {
   "cell_type": "code",
   "execution_count": 21,
   "id": "d4098bed-1eb2-4084-8d5e-9fda07c3be43",
   "metadata": {
    "tags": []
   },
   "outputs": [],
   "source": [
    "# Reuse the unfair coin from Task 1\n",
    "unfair_coin1 = unfair_coin \n",
    "\n",
    "# Reuse the same unfair coin1 object\n",
    "unfair_coin2 = unfair_coin  \n",
    "\n",
    "# Initialize a new fair coin\n",
    "fair_coin = Die(faces)\n",
    "\n",
    "# Set up a new game with two unfair coins and one fair coin\n",
    "new_game = Game([unfair_coin1, unfair_coin2, fair_coin])"
   ]
  },
  {
   "cell_type": "code",
   "execution_count": 23,
   "id": "b0a1eee4-4b28-42d1-92e0-e04b2c0a2c63",
   "metadata": {
    "tags": []
   },
   "outputs": [],
   "source": [
    "# Play the new game for 1000 flips\n",
    "new_game.play(1000) # called without error"
   ]
  },
  {
   "cell_type": "markdown",
   "id": "f690ebfc-fe71-4eb2-976d-7ac80ca6c23f",
   "metadata": {},
   "source": [
    "Task 4. For each game, use an Analyzer object to determine the raw frequency of jackpots — i.e. getting either all $H$s or all $T$s.\n",
    "\n",
    "- Analyzer objecs instantiated for both games (1).\n",
    "- Raw frequencies reported for both (1)."
   ]
  },
  {
   "cell_type": "code",
   "execution_count": 25,
   "id": "b26b8b7e-3be7-4476-a9a4-37d97536729e",
   "metadata": {
    "tags": []
   },
   "outputs": [],
   "source": [
    "# Analyzer objects instantiated for both games (1).\n",
    "\n",
    "from MonteCarlo.Analyzer import Analyzer\n",
    "\n",
    "# Analyzer for the first game (two fair coins)\n",
    "analyzer_fair = Analyzer(game)  # `game` is the Game object from Task 2\n",
    "\n",
    "# Analyzer for the second game (two unfair coins and one fair coin)\n",
    "analyzer_mixed = Analyzer(new_game)  # `new_game` is the Game object from Task 3"
   ]
  },
  {
   "cell_type": "code",
   "execution_count": 26,
   "id": "d82e3a84-5543-40b7-abd8-1fea5ae9ed39",
   "metadata": {
    "tags": []
   },
   "outputs": [
    {
     "name": "stdout",
     "output_type": "stream",
     "text": [
      "Raw frequency of jackpots for game with two fair coins: 510\n",
      "Raw frequency of jackpots for game with two unfair coins and one fair coin: 260\n"
     ]
    }
   ],
   "source": [
    "# Raw frequencies reported for both (1).\n",
    "jackpot_count_fair = analyzer_fair.jackpot()\n",
    "print(\"Raw frequency of jackpots for game with two fair coins:\", jackpot_count_fair)\n",
    "\n",
    "jackpot_count_mixed = analyzer_mixed.jackpot()\n",
    "print(\"Raw frequency of jackpots for game with two unfair coins and one fair coin:\", jackpot_count_mixed)"
   ]
  },
  {
   "cell_type": "markdown",
   "id": "b73d233c-445e-40cd-8858-0c5e1f097105",
   "metadata": {},
   "source": [
    "Task 5. For each analyzer, compute relative frequency as the number of jackpots over the total number of rolls.\n",
    "\n",
    "- Both relative frequencies computed (1)."
   ]
  },
  {
   "cell_type": "code",
   "execution_count": 27,
   "id": "9a96b31b-1b9d-496e-be3e-4bf83c45ec3a",
   "metadata": {
    "tags": []
   },
   "outputs": [
    {
     "name": "stdout",
     "output_type": "stream",
     "text": [
      "Relative frequency of jackpots for game with two fair coins: 0.51\n",
      "Relative frequency of jackpots for game with two unfair coins and one fair coin: 0.26\n"
     ]
    }
   ],
   "source": [
    "# Calculate relative frequency for the first game (two fair coins)\n",
    "relative_frequency_fair = jackpot_count_fair / 1000\n",
    "print(\"Relative frequency of jackpots for game with two fair coins:\", relative_frequency_fair)\n",
    "\n",
    "# Calculate relative frequency for the second game (two unfair coins and one fair coin)\n",
    "relative_frequency_mixed = jackpot_count_mixed / 1000\n",
    "print(\"Relative frequency of jackpots for game with two unfair coins and one fair coin:\", relative_frequency_mixed)"
   ]
  },
  {
   "cell_type": "markdown",
   "id": "a6e1e734-7f5c-4721-8ba4-2f3a424cf984",
   "metadata": {},
   "source": [
    "Task 6. Show your results, comparing the two relative frequencies, in a simple bar chart.\n",
    "\n",
    "- Bar chart plotted and correct (1)."
   ]
  },
  {
   "cell_type": "code",
   "execution_count": 44,
   "id": "473fa67c-aa53-4aa3-a0b7-e8772b3f6ed3",
   "metadata": {
    "tags": []
   },
   "outputs": [
    {
     "data": {
      "image/png": "[encoded data removed]",
      "text/plain": [
       "<Figure size 800x600 with 1 Axes>"
      ]
     },
     "metadata": {},
     "output_type": "display_data"
    }
   ],
   "source": [
    "import matplotlib.pyplot as plt\n",
    "\n",
    "# Labels for the games\n",
    "games = [\"Two Fair Coins\", \"Two Unfair & One Fair Coin\"]\n",
    "\n",
    "# Relative frequencies for each game\n",
    "relative_frequencies = [relative_frequency_fair, relative_frequency_mixed]\n",
    "\n",
    "# Plot the bar chart\n",
    "plt.figure(figsize=(8, 6))\n",
    "plt.bar(games, relative_frequencies, width=0.6, color=['red', 'green'])\n",
    "plt.xlabel(\"Game\")\n",
    "plt.ylabel(\"Relative Frequency of Jackpots\")\n",
    "plt.title(\"Jackpot Relative Frequencies\")\n",
    "plt.show()"
   ]
  },
  {
   "cell_type": "markdown",
   "id": "725cfa5b-e4b7-47c9-86aa-8d9e1fe6c8c7",
   "metadata": {},
   "source": [
    "## Scenario 2: A 6-sided Die (9)\n",
    "\n",
    "Task 1. Create three dice, each with six sides having the faces 1 through 6.\n",
    "\n",
    "- Three die objects created (1)."
   ]
  },
  {
   "cell_type": "code",
   "execution_count": 31,
   "id": "6a8bc611-325a-4e05-88d5-980e0a2cf7c5",
   "metadata": {},
   "outputs": [],
   "source": [
    "from MonteCarlo.Die import Die\n",
    "\n",
    "# A six-sided die\n",
    "faces = np.array([1, 2, 3, 4, 5, 6])\n",
    "\n",
    "# Create 3 dice with these faces\n",
    "die1 = Die(faces)\n",
    "die2 = Die(faces)\n",
    "die3 = Die(faces)"
   ]
  },
  {
   "cell_type": "markdown",
   "id": "2ed3ad26-fbe9-43bd-9ad7-f683a4191d12",
   "metadata": {},
   "source": [
    "Task 2. Convert one of the dice to an unfair one by weighting the face $6$ five times more than the other weights (i.e. it has weight of 5 and the others a weight of 1 each).\n",
    "\n",
    "- Unfair die created with proper call to weight change method (1)."
   ]
  },
  {
   "cell_type": "code",
   "execution_count": 33,
   "id": "e33dd18f-7f90-456d-a680-61c08a328e21",
   "metadata": {},
   "outputs": [
    {
     "name": "stdout",
     "output_type": "stream",
     "text": [
      "Chnage die1 to an unfair die with the weight of face 6 to 5:\n",
      "   weights  weight\n",
      "1      1.0     NaN\n",
      "2      1.0     NaN\n",
      "3      1.0     NaN\n",
      "4      1.0     NaN\n",
      "5      1.0     NaN\n",
      "6      1.0     5.0\n"
     ]
    }
   ],
   "source": [
    "# Change die1 to an unfair die with the weight of face 6 to 5\n",
    "die1.change_weight(6, 5)\n",
    "\n",
    "# to confirm: Show the updated weights\n",
    "print(\"Chnage die1 to an unfair die with the weight of face 6 to 5:\")\n",
    "print(die1.show())"
   ]
  },
  {
   "cell_type": "markdown",
   "id": "7f6c062a-4c5b-45b9-96b8-76a0354c7e47",
   "metadata": {},
   "source": [
    "Task 3. Convert another of the dice to be unfair by weighting the face $1$ five times more than the others.\n",
    "\n",
    "- Unfair die created with proper call to weight change method (1)."
   ]
  },
  {
   "cell_type": "code",
   "execution_count": 34,
   "id": "01133a4e-6b06-4246-8d90-8e6d6995be51",
   "metadata": {},
   "outputs": [
    {
     "name": "stdout",
     "output_type": "stream",
     "text": [
      "Convert die2 to an unfair die with the weight of face 1 to 5:\n",
      "   weights  weight\n",
      "1      1.0     5.0\n",
      "2      1.0     NaN\n",
      "3      1.0     NaN\n",
      "4      1.0     NaN\n",
      "5      1.0     NaN\n",
      "6      1.0     NaN\n"
     ]
    }
   ],
   "source": [
    "# Convert die2 to an unfair die with the weight of face 1 to 5\n",
    "die2.change_weight(1, 5)\n",
    "\n",
    "# to confirm: Show the updated weights \n",
    "print(\"Convert die2 to an unfair die with the weight of face 1 to 5:\")\n",
    "print(die2.show())\n"
   ]
  },
  {
   "cell_type": "markdown",
   "id": "f0ed31cb-0a3c-4eb2-b85e-6ed6b2eb6e58",
   "metadata": {},
   "source": [
    "Task 4. Play a game of $10000$ rolls with $5$ fair dice.\n",
    "\n",
    "- Game class properly instantiated (1). \n",
    "- Play method called properly (1)."
   ]
  },
  {
   "cell_type": "code",
   "execution_count": 35,
   "id": "e92395a4-9ed8-4cb0-8c85-38768a784ffc",
   "metadata": {},
   "outputs": [],
   "source": [
    "# Game class properly instantiated (1).\n",
    "from MonteCarlo.Game import Game\n",
    "\n",
    "# faces for a fair six-sided die\n",
    "faces = np.array([1, 2, 3, 4, 5, 6])\n",
    "\n",
    "# Create 5 fair dice\n",
    "fair_die1 = Die(faces)\n",
    "fair_die2 = Die(faces)\n",
    "fair_die3 = Die(faces)\n",
    "fair_die4 = Die(faces)\n",
    "fair_die5 = Die(faces)\n",
    "\n",
    "# Initialize a game with the 5 fair dice\n",
    "fair_game = Game([fair_die1, fair_die2, fair_die3, fair_die4, fair_die5])"
   ]
  },
  {
   "cell_type": "code",
   "execution_count": 36,
   "id": "f69b7fb1-1a45-4083-ad86-ca29bb40a7d1",
   "metadata": {
    "tags": []
   },
   "outputs": [],
   "source": [
    "# Play method called properly (1).\n",
    "# Play the game for 10,000 rolls\n",
    "fair_game.play(10000)"
   ]
  },
  {
   "cell_type": "markdown",
   "id": "7814b402-46a4-40e5-8141-20e05c3e646b",
   "metadata": {},
   "source": [
    "Task 5. Play another game of $10000$ rolls, this time with $2$ unfair dice, one as defined in steps #2 and #3 respectively, and $3$ fair dice.\n",
    "\n",
    "- Game class properly instantiated (1). \n",
    "- Play method called properly (1)."
   ]
  },
  {
   "cell_type": "code",
   "execution_count": 38,
   "id": "7cd58fba-b2a5-4d5d-bc6d-2a7a68d18c4f",
   "metadata": {},
   "outputs": [],
   "source": [
    "# Game class properly instantiated (1).\n",
    "\n",
    "# Use die1 and die2 from Tasks 2 and 3 (both are unfair dice)\n",
    "unfair_die1 = die1  \n",
    "unfair_die2 = die2 \n",
    "\n",
    "# Initialize 3 fair dice with six faces each\n",
    "fair_die3 = Die(faces)\n",
    "fair_die4 = Die(faces)\n",
    "fair_die5 = Die(faces)\n",
    "\n",
    "# Initialize a game with all 5 dice from above\n",
    "mixed_game = Game([unfair_die1, unfair_die2, fair_die3, fair_die4, fair_die5])"
   ]
  },
  {
   "cell_type": "code",
   "execution_count": 39,
   "id": "2619829b-3484-4d9d-8640-e828a1e617a9",
   "metadata": {
    "tags": []
   },
   "outputs": [],
   "source": [
    "# Play method called properly (1).\n",
    "# Play the game for 10,000 rolls\n",
    "mixed_game.play(10000)"
   ]
  },
  {
   "cell_type": "markdown",
   "id": "7b6cd372-2bb8-4df8-ade1-8f48bc300955",
   "metadata": {},
   "source": [
    "Task 6. For each game, use an Analyzer object to determine the relative frequency of jackpots and show your results, comparing the two relative frequencies, in a simple bar chart.\n",
    "\n",
    "- Jackpot methods called (1).\n",
    "- Graph produced (1)."
   ]
  },
  {
   "cell_type": "code",
   "execution_count": 42,
   "id": "bbdcf695-8937-406e-9b53-aa0b9ee3c59a",
   "metadata": {},
   "outputs": [
    {
     "name": "stdout",
     "output_type": "stream",
     "text": [
      "Relative frequency of jackpots for the game with 5 fair dice: 0.0004\n",
      "Relative frequency of jackpots for the game with 2 unfair dice, 3fair dice: 0.0008\n"
     ]
    }
   ],
   "source": [
    "# Jackpot methods called (1).\n",
    "\n",
    "# Analyzer for the game with 5fair dice\n",
    "analyzer_fair_game = Analyzer(fair_game)\n",
    "jackpot_count_fair_game = analyzer_fair_game.jackpot()\n",
    "relative_frequency_fair_game = jackpot_count_fair_game / 10000\n",
    "# Display relative frequencies\n",
    "print(\"Relative frequency of jackpots for the game with 5 fair dice:\", relative_frequency_fair_game)\n",
    "\n",
    "# Analyzer for the game with 2unfair, 3fair dice\n",
    "analyzer_mixed_game = Analyzer(mixed_game)\n",
    "jackpot_count_mixed_game = analyzer_mixed_game.jackpot()\n",
    "relative_frequency_mixed_game = jackpot_count_mixed_game / 10000\n",
    "# Display relative frequencies\n",
    "print(\"Relative frequency of jackpots for the game with 2 unfair dice, 3fair dice:\", relative_frequency_mixed_game)"
   ]
  },
  {
   "cell_type": "code",
   "execution_count": 45,
   "id": "ab2e2733-55f9-407d-9707-4322e7b673af",
   "metadata": {
    "tags": []
   },
   "outputs": [
    {
     "data": {
      "image/png": "[encoded data removed]",
      "text/plain": [
       "<Figure size 800x600 with 1 Axes>"
      ]
     },
     "metadata": {},
     "output_type": "display_data"
    }
   ],
   "source": [
    "# Graph produced (1).\n",
    "# Plotting the results in a bar chart\n",
    "games = [\"Five Fair Dice\", \"Two Unfair & Three Fair Dice\"]\n",
    "relative_frequencies = [relative_frequency_fair_game, relative_frequency_mixed_game]\n",
    "\n",
    "plt.figure(figsize=(8, 6))\n",
    "plt.bar(games, relative_frequencies, width=0.6, color=['blue', 'orange'])\n",
    "plt.xlabel(\"Game Type\")\n",
    "plt.ylabel(\"Relative Frequency of Jackpots\")\n",
    "plt.title(\"Comparison of Jackpot Relative Frequencies\")\n",
    "plt.show()"
   ]
  },
  {
   "cell_type": "markdown",
   "id": "9f04e9be-8fcf-4ea4-a391-6614608285f8",
   "metadata": {},
   "source": [
    "## Scenario 3: Letters of the Alphabet (7)\n",
    "\n",
    "Task 1. Create a \"die\" of letters from $A$ to $Z$ with weights based on their frequency of usage as found in the data file `english_letters.txt`. Use the frequencies (i.e. raw counts) as weights.\n",
    "\n",
    "- Die correctly instantiated with source file data (1).\n",
    "- Weights properly applied using weight setting method (1)."
   ]
  },
  {
   "cell_type": "code",
   "execution_count": 46,
   "id": "b0ceb771-3cdf-4d8f-8c2c-020806bbb909",
   "metadata": {},
   "outputs": [
    {
     "name": "stdout",
     "output_type": "stream",
     "text": [
      "   weights       weight\n",
      "E      1.0  529117365.0\n",
      "T      1.0  390965105.0\n",
      "A      1.0  374061888.0\n",
      "O      1.0  326627740.0\n",
      "I      1.0  320410057.0\n",
      "N      1.0  313720540.0\n",
      "S      1.0  294300210.0\n",
      "R      1.0  277000841.0\n",
      "H      1.0  216768975.0\n",
      "L      1.0  183996130.0\n",
      "D      1.0  169330528.0\n",
      "C      1.0  138416451.0\n",
      "U      1.0  117295780.0\n",
      "M      1.0  110504544.0\n",
      "F      1.0   95422055.0\n",
      "G      1.0   91258980.0\n",
      "P      1.0   90376747.0\n",
      "W      1.0   79843664.0\n",
      "Y      1.0   75294515.0\n",
      "B      1.0   70195826.0\n",
      "V      1.0   46337161.0\n",
      "K      1.0   35373464.0\n",
      "J      1.0    9613410.0\n",
      "X      1.0    8369915.0\n",
      "Z      1.0    4975847.0\n",
      "Q      1.0    4550166.0\n"
     ]
    }
   ],
   "source": [
    "\n",
    "# Load english_letters.txt\n",
    "with open('english_letters.txt') as file:\n",
    "    data = file.readlines()\n",
    "\n",
    "# Extract letters and their frequencies\n",
    "letters = []\n",
    "frequencies = []\n",
    "\n",
    "for line in data:\n",
    "    letter, frequency = line.strip().split()\n",
    "    letters.append(letter)\n",
    "    frequencies.append(int(frequency))\n",
    "\n",
    "# Create a Die object with letters as faces and frequencies as weights\n",
    "letter_die = Die(faces=np.array(letters))\n",
    "for letter, weight in zip(letters, frequencies):\n",
    "    letter_die.change_weight(letter, weight)\n",
    "\n",
    "# to confirm dice and weights\n",
    "print(letter_die.show())\n"
   ]
  },
  {
   "cell_type": "markdown",
   "id": "88e2e14a-6223-470a-a2c8-bca1120d7a5b",
   "metadata": {},
   "source": [
    "Task 2. Play a game involving $4$ of these dice with $1000$ rolls.\n",
    "\n",
    "- Game play method properly called (1)."
   ]
  },
  {
   "cell_type": "code",
   "execution_count": 47,
   "id": "2ae087cc-936d-4f1e-bddb-a7c179d139e0",
   "metadata": {},
   "outputs": [],
   "source": [
    "# Create 4 letter dice\n",
    "letter_die1 = letter_die  # Reuse the weighted die from Task 1\n",
    "letter_die2 = letter_die\n",
    "letter_die3 = letter_die\n",
    "letter_die4 = letter_die\n",
    "\n",
    "# Initialize a game with all 4 letter dice from above\n",
    "letter_game = Game([letter_die1, letter_die2, letter_die3, letter_die4])\n",
    "\n",
    "# Play the game for 1000 rolls\n",
    "letter_game.play(1000)"
   ]
  },
  {
   "cell_type": "markdown",
   "id": "3b9ff800-bf1f-4f66-9d7f-ff57a648e9f0",
   "metadata": {},
   "source": [
    "Task 3. Determine how many permutations in your results are actual English words, based on the vocabulary found in `scrabble_words.txt`.\n",
    "\n",
    "- Use permutation method (1).\n",
    "- Get count as difference between permutations and vocabulary (1)."
   ]
  },
  {
   "cell_type": "code",
   "execution_count": 50,
   "id": "ed1c7fa0-cfa3-4cf4-9fd0-9f84b86b0f64",
   "metadata": {},
   "outputs": [
    {
     "name": "stdout",
     "output_type": "stream",
     "text": [
      "Number of permutations which are actual English words: 13\n",
      "Number off total permutations: 1000\n",
      "difference between permutations and vocabulary: 987\n"
     ]
    }
   ],
   "source": [
    "# Load scrabble_words.txt and get vocabulary from it\n",
    "with open('scrabble_words.txt') as file:\n",
    "    vocabulary = set(word.strip().upper() for word in file.readlines())\n",
    "\n",
    "# Use Analyzer on the game results to obtain permutations\n",
    "analyzer = Analyzer(letter_game)\n",
    "permutations_df = analyzer.permutation_count()\n",
    "\n",
    "# Count how many permutations are actual English words, based on vocabulary from above\n",
    "actual_word_count = sum(1 for word in permutations_df.index if ''.join(word) in vocabulary)\n",
    "\n",
    "# Display the results\n",
    "print(\"Number of permutations which are actual English words:\", actual_word_count)\n",
    "print(\"Number off total permutations:\", permutations_df['count'].sum())\n",
    "print(\"difference between permutations and vocabulary:\", permutations_df['count'].sum() - actual_word_count)\n"
   ]
  },
  {
   "cell_type": "markdown",
   "id": "fcf068cf-381a-4b3e-ac3a-0510eb4dbdb0",
   "metadata": {},
   "source": [
    "Task 4. Repeat steps #2 and #3, this time with $5$ dice. How many actual words does this produce? Which produces more?\n",
    "\n",
    "- Successfully repreats steps (1).\n",
    "- Identifies parameter with most found words (1)."
   ]
  },
  {
   "cell_type": "code",
   "execution_count": 55,
   "id": "c50e77d4-b75f-499f-9765-8aa585a8f603",
   "metadata": {
    "tags": []
   },
   "outputs": [
    {
     "name": "stdout",
     "output_type": "stream",
     "text": [
      "Number of permutations which are actual English words (5 dice): 3\n",
      "Total permutations (5 dice): 1000\n",
      "difference between permutations and vocabulary (5 dice): 997\n"
     ]
    }
   ],
   "source": [
    "# Reuse the weighted letter die from Task 1, we need just one more die\n",
    "letter_die5 = letter_die\n",
    "\n",
    "# Initialize a game with 5 letter dice\n",
    "letter_game_5_dice = Game([letter_die1, letter_die2, letter_die3, letter_die4, letter_die5])\n",
    "\n",
    "# Play the game with 1000 rolls\n",
    "letter_game_5_dice.play(1000)\n",
    "\n",
    "# Analyze permutations for the game with 5 dice\n",
    "analyzer_5_dice = Analyzer(letter_game_5_dice)\n",
    "permutations_df_5_dice = analyzer_5_dice.permutation_count()\n",
    "\n",
    "# Count how many permutations are actual English words in the 5-dice game\n",
    "actual_word_count_5_dice = sum(1 for word in permutations_df_5_dice.index if ''.join(word) in vocabulary)\n",
    "\n",
    "# Display results for 5-dice game\n",
    "print(\"Number of permutations which are actual English words (5 dice):\", actual_word_count_5_dice)\n",
    "print(\"Total permutations (5 dice):\", permutations_df_5_dice['count'].sum())\n",
    "print(\"difference between permutations and vocabulary (5 dice):\", permutations_df_5_dice['count'].sum()-actual_word_count_5_dice )"
   ]
  },
  {
   "cell_type": "code",
   "execution_count": 56,
   "id": "cde01b06-e2fe-4932-987c-cbbe9298171b",
   "metadata": {
    "tags": []
   },
   "outputs": [
    {
     "name": "stdout",
     "output_type": "stream",
     "text": [
      "Comparison:\n",
      "Number of actual words with 4 dice: 13\n",
      "Number of actual words with 5 dice: 3\n",
      "The game with 4 dice produced more actual English words.\n"
     ]
    }
   ],
   "source": [
    "# Comparison\n",
    "print(\"Comparison:\")\n",
    "print(\"Number of actual words with 4 dice:\", actual_word_count)\n",
    "print(\"Number of actual words with 5 dice:\", actual_word_count_5_dice)\n",
    "\n",
    "if actual_word_count_5_dice > actual_word_count:\n",
    "    print(\"The game with 5 dice produced more actual English words.\")\n",
    "else:\n",
    "    print(\"The game with 4 dice produced more actual English words.\")"
   ]
  },
  {
   "cell_type": "code",
   "execution_count": null,
   "id": "21622c0c-45e7-4ae2-aefd-2149f61d684f",
   "metadata": {},
   "outputs": [],
   "source": []
  }
 ],
 "metadata": {
  "kernelspec": {
   "display_name": "Python 3 (ipykernel)",
   "language": "python",
   "name": "python3"
  },
  "language_info": {
   "codemirror_mode": {
    "name": "ipython",
    "version": 3
   },
   "file_extension": ".py",
   "mimetype": "text/x-python",
   "name": "python",
   "nbconvert_exporter": "python",
   "pygments_lexer": "ipython3",
   "version": "3.11.4"
  },
  "toc-autonumbering": true,
  "widgets": {
   "application/vnd.jupyter.widget-state+json": {
    "state": {},
    "version_major": 2,
    "version_minor": 0
   }
  }
 },
 "nbformat": 4,
 "nbformat_minor": 5
}
